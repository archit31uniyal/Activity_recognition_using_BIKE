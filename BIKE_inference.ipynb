{
  "cells": [
    {
      "cell_type": "markdown",
      "metadata": {
        "id": "d5B7bVhYUU1l"
      },
      "source": [
        "#Notebook for Inference using BIKE\n"
      ]
    },
    {
      "cell_type": "markdown",
      "metadata": {
        "id": "d0foJKreStO4"
      },
      "source": [
        "#Installing Libraries"
      ]
    },
    {
      "cell_type": "code",
      "execution_count": 1,
      "metadata": {
        "colab": {
          "base_uri": "https://localhost:8080/"
        },
        "id": "bzCajVn8Q_cd",
        "outputId": "de9bea54-7797-45c4-9ef2-b3207e9cf705"
      },
      "outputs": [
        {
          "name": "stdout",
          "output_type": "stream",
          "text": [
            "\u001b[33mWARNING: Ignoring invalid distribution ~orch (/home/tkg5kq/.conda/envs/video/lib/python3.11/site-packages)\u001b[0m\u001b[33m\n",
            "\u001b[0m\u001b[33mDEPRECATION: Loading egg at /sfs/gpfs/tardis/home/tkg5kq/.conda/envs/video/lib/python3.11/site-packages/MultiScaleDeformableAttention-1.0-py3.11.egg is deprecated. pip 25.1 will enforce this behaviour change. A possible replacement is to use pip for package installation. Discussion can be found at https://github.com/pypa/pip/issues/12330\u001b[0m\u001b[33m\n",
            "\u001b[0m\u001b[33mDEPRECATION: Loading egg at /sfs/gpfs/tardis/home/tkg5kq/.conda/envs/video/lib/python3.11/site-packages/cauchy_mult-0.0.0-py3.11.egg is deprecated. pip 25.1 will enforce this behaviour change. A possible replacement is to use pip for package installation. Discussion can be found at https://github.com/pypa/pip/issues/12330\u001b[0m\u001b[33m\n",
            "\u001b[0mRequirement already satisfied: torchnet in /home/tkg5kq/.conda/envs/video/lib/python3.11/site-packages (0.0.4)\n",
            "Requirement already satisfied: torch in /home/tkg5kq/.conda/envs/video/lib/python3.11/site-packages (from torchnet) (2.4.1)\n",
            "Requirement already satisfied: six in /home/tkg5kq/.conda/envs/video/lib/python3.11/site-packages (from torchnet) (1.16.0)\n",
            "Requirement already satisfied: visdom in /home/tkg5kq/.conda/envs/video/lib/python3.11/site-packages (from torchnet) (0.2.4)\n",
            "Requirement already satisfied: filelock in /home/tkg5kq/.conda/envs/video/lib/python3.11/site-packages (from torch->torchnet) (3.14.0)\n",
            "Requirement already satisfied: typing-extensions>=4.8.0 in /home/tkg5kq/.conda/envs/video/lib/python3.11/site-packages (from torch->torchnet) (4.12.2)\n",
            "Requirement already satisfied: sympy in /home/tkg5kq/.conda/envs/video/lib/python3.11/site-packages (from torch->torchnet) (1.11.1)\n",
            "Requirement already satisfied: networkx in /home/tkg5kq/.conda/envs/video/lib/python3.11/site-packages (from torch->torchnet) (3.1)\n",
            "Requirement already satisfied: jinja2 in /home/tkg5kq/.conda/envs/video/lib/python3.11/site-packages (from torch->torchnet) (3.1.2)\n",
            "Requirement already satisfied: fsspec in /home/tkg5kq/.conda/envs/video/lib/python3.11/site-packages (from torch->torchnet) (2024.6.0)\n",
            "Requirement already satisfied: nvidia-cuda-nvrtc-cu12==12.1.105 in /home/tkg5kq/.conda/envs/video/lib/python3.11/site-packages (from torch->torchnet) (12.1.105)\n",
            "Requirement already satisfied: nvidia-cuda-runtime-cu12==12.1.105 in /home/tkg5kq/.conda/envs/video/lib/python3.11/site-packages (from torch->torchnet) (12.1.105)\n",
            "Requirement already satisfied: nvidia-cuda-cupti-cu12==12.1.105 in /home/tkg5kq/.conda/envs/video/lib/python3.11/site-packages (from torch->torchnet) (12.1.105)\n",
            "Requirement already satisfied: nvidia-cudnn-cu12==9.1.0.70 in /home/tkg5kq/.conda/envs/video/lib/python3.11/site-packages (from torch->torchnet) (9.1.0.70)\n",
            "Requirement already satisfied: nvidia-cublas-cu12==12.1.3.1 in /home/tkg5kq/.conda/envs/video/lib/python3.11/site-packages (from torch->torchnet) (12.1.3.1)\n",
            "Requirement already satisfied: nvidia-cufft-cu12==11.0.2.54 in /home/tkg5kq/.conda/envs/video/lib/python3.11/site-packages (from torch->torchnet) (11.0.2.54)\n",
            "Requirement already satisfied: nvidia-curand-cu12==10.3.2.106 in /home/tkg5kq/.conda/envs/video/lib/python3.11/site-packages (from torch->torchnet) (10.3.2.106)\n",
            "Requirement already satisfied: nvidia-cusolver-cu12==11.4.5.107 in /home/tkg5kq/.conda/envs/video/lib/python3.11/site-packages (from torch->torchnet) (11.4.5.107)\n",
            "Requirement already satisfied: nvidia-cusparse-cu12==12.1.0.106 in /home/tkg5kq/.conda/envs/video/lib/python3.11/site-packages (from torch->torchnet) (12.1.0.106)\n",
            "Requirement already satisfied: nvidia-nccl-cu12==2.20.5 in /home/tkg5kq/.conda/envs/video/lib/python3.11/site-packages (from torch->torchnet) (2.20.5)\n",
            "Requirement already satisfied: nvidia-nvtx-cu12==12.1.105 in /home/tkg5kq/.conda/envs/video/lib/python3.11/site-packages (from torch->torchnet) (12.1.105)\n",
            "Requirement already satisfied: triton==3.0.0 in /home/tkg5kq/.conda/envs/video/lib/python3.11/site-packages (from torch->torchnet) (3.0.0)\n",
            "Requirement already satisfied: nvidia-nvjitlink-cu12 in /home/tkg5kq/.conda/envs/video/lib/python3.11/site-packages (from nvidia-cusolver-cu12==11.4.5.107->torch->torchnet) (12.6.68)\n",
            "Requirement already satisfied: numpy>=1.8 in /home/tkg5kq/.conda/envs/video/lib/python3.11/site-packages (from visdom->torchnet) (1.26.4)\n",
            "Requirement already satisfied: scipy in /home/tkg5kq/.conda/envs/video/lib/python3.11/site-packages (from visdom->torchnet) (1.13.1)\n",
            "Requirement already satisfied: requests in /home/tkg5kq/.conda/envs/video/lib/python3.11/site-packages (from visdom->torchnet) (2.28.2)\n",
            "Requirement already satisfied: tornado in /home/tkg5kq/.conda/envs/video/lib/python3.11/site-packages (from visdom->torchnet) (6.3.3)\n",
            "Requirement already satisfied: jsonpatch in /home/tkg5kq/.conda/envs/video/lib/python3.11/site-packages (from visdom->torchnet) (1.33)\n",
            "Requirement already satisfied: websocket-client in /home/tkg5kq/.conda/envs/video/lib/python3.11/site-packages (from visdom->torchnet) (1.8.0)\n",
            "Requirement already satisfied: pillow in /home/tkg5kq/.conda/envs/video/lib/python3.11/site-packages (from visdom->torchnet) (10.4.0)\n",
            "Requirement already satisfied: MarkupSafe>=2.0 in /home/tkg5kq/.conda/envs/video/lib/python3.11/site-packages (from jinja2->torch->torchnet) (2.1.1)\n",
            "Requirement already satisfied: jsonpointer>=1.9 in /home/tkg5kq/.conda/envs/video/lib/python3.11/site-packages (from jsonpatch->visdom->torchnet) (3.0.0)\n",
            "Requirement already satisfied: charset-normalizer<4,>=2 in /home/tkg5kq/.conda/envs/video/lib/python3.11/site-packages (from requests->visdom->torchnet) (2.0.4)\n",
            "Requirement already satisfied: idna<4,>=2.5 in /home/tkg5kq/.conda/envs/video/lib/python3.11/site-packages (from requests->visdom->torchnet) (3.4)\n",
            "Requirement already satisfied: urllib3<1.27,>=1.21.1 in /home/tkg5kq/.conda/envs/video/lib/python3.11/site-packages (from requests->visdom->torchnet) (1.26.18)\n",
            "Requirement already satisfied: certifi>=2017.4.17 in /home/tkg5kq/.conda/envs/video/lib/python3.11/site-packages (from requests->visdom->torchnet) (2024.8.30)\n",
            "Requirement already satisfied: mpmath>=0.19 in /home/tkg5kq/.conda/envs/video/lib/python3.11/site-packages (from sympy->torch->torchnet) (1.3.0)\n",
            "\u001b[33mWARNING: Ignoring invalid distribution ~orch (/home/tkg5kq/.conda/envs/video/lib/python3.11/site-packages)\u001b[0m\u001b[33m\n",
            "\u001b[0m\u001b[33mWARNING: Ignoring invalid distribution ~orch (/home/tkg5kq/.conda/envs/video/lib/python3.11/site-packages)\u001b[0m\u001b[33m\n",
            "\u001b[0m\u001b[33mWARNING: Ignoring invalid distribution ~orch (/home/tkg5kq/.conda/envs/video/lib/python3.11/site-packages)\u001b[0m\u001b[33m\n",
            "\u001b[0m\u001b[33mWARNING: Ignoring invalid distribution ~orch (/home/tkg5kq/.conda/envs/video/lib/python3.11/site-packages)\u001b[0m\u001b[33m\n",
            "\u001b[0m\u001b[33mWARNING: Ignoring invalid distribution ~orch (/home/tkg5kq/.conda/envs/video/lib/python3.11/site-packages)\u001b[0m\u001b[33m\n",
            "\u001b[0m\u001b[33mDEPRECATION: Loading egg at /sfs/gpfs/tardis/home/tkg5kq/.conda/envs/video/lib/python3.11/site-packages/MultiScaleDeformableAttention-1.0-py3.11.egg is deprecated. pip 25.1 will enforce this behaviour change. A possible replacement is to use pip for package installation. Discussion can be found at https://github.com/pypa/pip/issues/12330\u001b[0m\u001b[33m\n",
            "\u001b[0m\u001b[33mDEPRECATION: Loading egg at /sfs/gpfs/tardis/home/tkg5kq/.conda/envs/video/lib/python3.11/site-packages/cauchy_mult-0.0.0-py3.11.egg is deprecated. pip 25.1 will enforce this behaviour change. A possible replacement is to use pip for package installation. Discussion can be found at https://github.com/pypa/pip/issues/12330\u001b[0m\u001b[33m\n",
            "\u001b[0mRequirement already satisfied: ftfy in /home/tkg5kq/.conda/envs/video/lib/python3.11/site-packages (6.2.3)\n",
            "Requirement already satisfied: wcwidth<0.3.0,>=0.2.12 in /home/tkg5kq/.conda/envs/video/lib/python3.11/site-packages (from ftfy) (0.2.13)\n",
            "\u001b[33mWARNING: Ignoring invalid distribution ~orch (/home/tkg5kq/.conda/envs/video/lib/python3.11/site-packages)\u001b[0m\u001b[33m\n",
            "\u001b[0m\u001b[33mWARNING: Ignoring invalid distribution ~orch (/home/tkg5kq/.conda/envs/video/lib/python3.11/site-packages)\u001b[0m\u001b[33m\n",
            "\u001b[0m\u001b[33mWARNING: Ignoring invalid distribution ~orch (/home/tkg5kq/.conda/envs/video/lib/python3.11/site-packages)\u001b[0m\u001b[33m\n",
            "\u001b[0m\u001b[33mWARNING: Ignoring invalid distribution ~orch (/home/tkg5kq/.conda/envs/video/lib/python3.11/site-packages)\u001b[0m\u001b[33m\n",
            "\u001b[0m\u001b[33mWARNING: Ignoring invalid distribution ~orch (/home/tkg5kq/.conda/envs/video/lib/python3.11/site-packages)\u001b[0m\u001b[33m\n",
            "\u001b[0m\u001b[33mDEPRECATION: Loading egg at /sfs/gpfs/tardis/home/tkg5kq/.conda/envs/video/lib/python3.11/site-packages/MultiScaleDeformableAttention-1.0-py3.11.egg is deprecated. pip 25.1 will enforce this behaviour change. A possible replacement is to use pip for package installation. Discussion can be found at https://github.com/pypa/pip/issues/12330\u001b[0m\u001b[33m\n",
            "\u001b[0m\u001b[33mDEPRECATION: Loading egg at /sfs/gpfs/tardis/home/tkg5kq/.conda/envs/video/lib/python3.11/site-packages/cauchy_mult-0.0.0-py3.11.egg is deprecated. pip 25.1 will enforce this behaviour change. A possible replacement is to use pip for package installation. Discussion can be found at https://github.com/pypa/pip/issues/12330\u001b[0m\u001b[33m\n",
            "\u001b[0mRequirement already satisfied: dotmap in /home/tkg5kq/.conda/envs/video/lib/python3.11/site-packages (1.3.30)\n",
            "\u001b[33mWARNING: Ignoring invalid distribution ~orch (/home/tkg5kq/.conda/envs/video/lib/python3.11/site-packages)\u001b[0m\u001b[33m\n",
            "\u001b[0m\u001b[33mWARNING: Ignoring invalid distribution ~orch (/home/tkg5kq/.conda/envs/video/lib/python3.11/site-packages)\u001b[0m\u001b[33m\n",
            "\u001b[0m\u001b[33mWARNING: Ignoring invalid distribution ~orch (/home/tkg5kq/.conda/envs/video/lib/python3.11/site-packages)\u001b[0m\u001b[33m\n",
            "\u001b[0m\u001b[33mWARNING: Ignoring invalid distribution ~orch (/home/tkg5kq/.conda/envs/video/lib/python3.11/site-packages)\u001b[0m\u001b[33m\n",
            "\u001b[0m\u001b[33mWARNING: Ignoring invalid distribution ~orch (/home/tkg5kq/.conda/envs/video/lib/python3.11/site-packages)\u001b[0m\u001b[33m\n",
            "\u001b[0m\u001b[33mDEPRECATION: Loading egg at /sfs/gpfs/tardis/home/tkg5kq/.conda/envs/video/lib/python3.11/site-packages/MultiScaleDeformableAttention-1.0-py3.11.egg is deprecated. pip 25.1 will enforce this behaviour change. A possible replacement is to use pip for package installation. Discussion can be found at https://github.com/pypa/pip/issues/12330\u001b[0m\u001b[33m\n",
            "\u001b[0m\u001b[33mDEPRECATION: Loading egg at /sfs/gpfs/tardis/home/tkg5kq/.conda/envs/video/lib/python3.11/site-packages/cauchy_mult-0.0.0-py3.11.egg is deprecated. pip 25.1 will enforce this behaviour change. A possible replacement is to use pip for package installation. Discussion can be found at https://github.com/pypa/pip/issues/12330\u001b[0m\u001b[33m\n",
            "\u001b[0mRequirement already satisfied: decord in /home/tkg5kq/.conda/envs/video/lib/python3.11/site-packages (0.6.0)\n",
            "Requirement already satisfied: numpy>=1.14.0 in /home/tkg5kq/.conda/envs/video/lib/python3.11/site-packages (from decord) (1.26.4)\n",
            "\u001b[33mWARNING: Ignoring invalid distribution ~orch (/home/tkg5kq/.conda/envs/video/lib/python3.11/site-packages)\u001b[0m\u001b[33m\n",
            "\u001b[0m\u001b[33mWARNING: Ignoring invalid distribution ~orch (/home/tkg5kq/.conda/envs/video/lib/python3.11/site-packages)\u001b[0m\u001b[33m\n",
            "\u001b[0m\u001b[33mWARNING: Ignoring invalid distribution ~orch (/home/tkg5kq/.conda/envs/video/lib/python3.11/site-packages)\u001b[0m\u001b[33m\n",
            "\u001b[0m\u001b[33mWARNING: Ignoring invalid distribution ~orch (/home/tkg5kq/.conda/envs/video/lib/python3.11/site-packages)\u001b[0m\u001b[33m\n",
            "\u001b[0m"
          ]
        }
      ],
      "source": [
        "\n",
        "!pip install torchnet\n",
        "!pip install ftfy\n",
        "!pip install dotmap\n",
        "!pip install decord"
      ]
    },
    {
      "cell_type": "markdown",
      "metadata": {
        "id": "-qxFkGhmS7k3"
      },
      "source": [
        "#Downloading Model"
      ]
    },
    {
      "cell_type": "code",
      "execution_count": 2,
      "metadata": {
        "colab": {
          "base_uri": "https://localhost:8080/",
          "height": 142
        },
        "id": "rRMMJyPO8W_Y",
        "outputId": "efbc4c88-d481-4ead-e1d1-b242e2d52799"
      },
      "outputs": [
        {
          "name": "stderr",
          "output_type": "stream",
          "text": [
            "Downloading...\n",
            "From (original): https://drive.google.com/uc?id=1tALbViwYTKYShThXp8x8n8upXkDajqre\n",
            "From (redirected): https://drive.google.com/uc?id=1tALbViwYTKYShThXp8x8n8upXkDajqre&confirm=t&uuid=57492af5-1c3d-4ec5-961f-61336f03cf73\n",
            "To: /content/ucf-vit-l-f16.pt\n",
            "100%|██████████| 4.65G/4.65G [00:28<00:00, 165MB/s]\n"
          ]
        },
        {
          "data": {
            "application/vnd.google.colaboratory.intrinsic+json": {
              "type": "string"
            },
            "text/plain": [
              "'ucf-vit-l-f16.pt'"
            ]
          },
          "execution_count": 2,
          "metadata": {},
          "output_type": "execute_result"
        }
      ],
      "source": [
        "import gdown\n",
        "\n",
        "# The shared link for the second file\n",
        "file_url = 'https://drive.google.com/uc?id=1tALbViwYTKYShThXp8x8n8upXkDajqre'\n",
        "\n",
        "# Local path where the file will be saved\n",
        "output_path = 'ucf-vit-l-f16.pt'  # Replace 'your_second_file_name.ext' with your desired file name and extension\n",
        "\n",
        "# Download the file\n",
        "gdown.download(file_url, output_path, quiet=False)"
      ]
    },
    {
      "cell_type": "markdown",
      "metadata": {
        "id": "koXsjKEv-KfD"
      },
      "source": [
        "#Cloning Repo"
      ]
    },
    {
      "cell_type": "code",
      "execution_count": 3,
      "metadata": {
        "colab": {
          "base_uri": "https://localhost:8080/"
        },
        "id": "yj6EOJQj8eG-",
        "outputId": "b45d5ddd-a73d-4bd1-97a0-7dfa9933aff3"
      },
      "outputs": [
        {
          "name": "stdout",
          "output_type": "stream",
          "text": [
            "Cloning into 'BIKE'...\n",
            "remote: Enumerating objects: 358, done.\u001b[K\n",
            "remote: Counting objects: 100% (19/19), done.\u001b[K\n",
            "remote: Compressing objects: 100% (13/13), done.\u001b[K\n",
            "remote: Total 358 (delta 11), reused 6 (delta 6), pack-reused 339 (from 1)\u001b[K\n",
            "Receiving objects: 100% (358/358), 9.27 MiB | 11.37 MiB/s, done.\n",
            "Resolving deltas: 100% (150/150), done.\n"
          ]
        }
      ],
      "source": [
        "!git clone https://github.com/hamzakhalil798/BIKE.git"
      ]
    },
    {
      "cell_type": "code",
      "execution_count": 3,
      "metadata": {
        "id": "QKBI-mjkZhCC"
      },
      "outputs": [],
      "source": []
    },
    {
      "cell_type": "markdown",
      "metadata": {
        "id": "i45iLK1FLV2f"
      },
      "source": [
        "#Inference for single Video"
      ]
    },
    {
      "cell_type": "code",
      "execution_count": 4,
      "metadata": {
        "colab": {
          "base_uri": "https://localhost:8080/",
          "height": 90
        },
        "id": "kx0dU4erVsoV",
        "outputId": "c22e356c-375c-43f6-aaa8-bd1536caa3a9"
      },
      "outputs": [
        {
          "name": "stdout",
          "output_type": "stream",
          "text": [
            "/content\n"
          ]
        },
        {
          "data": {
            "text/html": [
              "\n",
              "     <input type=\"file\" id=\"files-8dd15da3-3255-4440-9328-da1109eacca0\" name=\"files[]\" multiple disabled\n",
              "        style=\"border:none\" />\n",
              "     <output id=\"result-8dd15da3-3255-4440-9328-da1109eacca0\">\n",
              "      Upload widget is only available when the cell has been executed in the\n",
              "      current browser session. Please rerun this cell to enable.\n",
              "      </output>\n",
              "      <script>// Copyright 2017 Google LLC\n",
              "//\n",
              "// Licensed under the Apache License, Version 2.0 (the \"License\");\n",
              "// you may not use this file except in compliance with the License.\n",
              "// You may obtain a copy of the License at\n",
              "//\n",
              "//      http://www.apache.org/licenses/LICENSE-2.0\n",
              "//\n",
              "// Unless required by applicable law or agreed to in writing, software\n",
              "// distributed under the License is distributed on an \"AS IS\" BASIS,\n",
              "// WITHOUT WARRANTIES OR CONDITIONS OF ANY KIND, either express or implied.\n",
              "// See the License for the specific language governing permissions and\n",
              "// limitations under the License.\n",
              "\n",
              "/**\n",
              " * @fileoverview Helpers for google.colab Python module.\n",
              " */\n",
              "(function(scope) {\n",
              "function span(text, styleAttributes = {}) {\n",
              "  const element = document.createElement('span');\n",
              "  element.textContent = text;\n",
              "  for (const key of Object.keys(styleAttributes)) {\n",
              "    element.style[key] = styleAttributes[key];\n",
              "  }\n",
              "  return element;\n",
              "}\n",
              "\n",
              "// Max number of bytes which will be uploaded at a time.\n",
              "const MAX_PAYLOAD_SIZE = 100 * 1024;\n",
              "\n",
              "function _uploadFiles(inputId, outputId) {\n",
              "  const steps = uploadFilesStep(inputId, outputId);\n",
              "  const outputElement = document.getElementById(outputId);\n",
              "  // Cache steps on the outputElement to make it available for the next call\n",
              "  // to uploadFilesContinue from Python.\n",
              "  outputElement.steps = steps;\n",
              "\n",
              "  return _uploadFilesContinue(outputId);\n",
              "}\n",
              "\n",
              "// This is roughly an async generator (not supported in the browser yet),\n",
              "// where there are multiple asynchronous steps and the Python side is going\n",
              "// to poll for completion of each step.\n",
              "// This uses a Promise to block the python side on completion of each step,\n",
              "// then passes the result of the previous step as the input to the next step.\n",
              "function _uploadFilesContinue(outputId) {\n",
              "  const outputElement = document.getElementById(outputId);\n",
              "  const steps = outputElement.steps;\n",
              "\n",
              "  const next = steps.next(outputElement.lastPromiseValue);\n",
              "  return Promise.resolve(next.value.promise).then((value) => {\n",
              "    // Cache the last promise value to make it available to the next\n",
              "    // step of the generator.\n",
              "    outputElement.lastPromiseValue = value;\n",
              "    return next.value.response;\n",
              "  });\n",
              "}\n",
              "\n",
              "/**\n",
              " * Generator function which is called between each async step of the upload\n",
              " * process.\n",
              " * @param {string} inputId Element ID of the input file picker element.\n",
              " * @param {string} outputId Element ID of the output display.\n",
              " * @return {!Iterable<!Object>} Iterable of next steps.\n",
              " */\n",
              "function* uploadFilesStep(inputId, outputId) {\n",
              "  const inputElement = document.getElementById(inputId);\n",
              "  inputElement.disabled = false;\n",
              "\n",
              "  const outputElement = document.getElementById(outputId);\n",
              "  outputElement.innerHTML = '';\n",
              "\n",
              "  const pickedPromise = new Promise((resolve) => {\n",
              "    inputElement.addEventListener('change', (e) => {\n",
              "      resolve(e.target.files);\n",
              "    });\n",
              "  });\n",
              "\n",
              "  const cancel = document.createElement('button');\n",
              "  inputElement.parentElement.appendChild(cancel);\n",
              "  cancel.textContent = 'Cancel upload';\n",
              "  const cancelPromise = new Promise((resolve) => {\n",
              "    cancel.onclick = () => {\n",
              "      resolve(null);\n",
              "    };\n",
              "  });\n",
              "\n",
              "  // Wait for the user to pick the files.\n",
              "  const files = yield {\n",
              "    promise: Promise.race([pickedPromise, cancelPromise]),\n",
              "    response: {\n",
              "      action: 'starting',\n",
              "    }\n",
              "  };\n",
              "\n",
              "  cancel.remove();\n",
              "\n",
              "  // Disable the input element since further picks are not allowed.\n",
              "  inputElement.disabled = true;\n",
              "\n",
              "  if (!files) {\n",
              "    return {\n",
              "      response: {\n",
              "        action: 'complete',\n",
              "      }\n",
              "    };\n",
              "  }\n",
              "\n",
              "  for (const file of files) {\n",
              "    const li = document.createElement('li');\n",
              "    li.append(span(file.name, {fontWeight: 'bold'}));\n",
              "    li.append(span(\n",
              "        `(${file.type || 'n/a'}) - ${file.size} bytes, ` +\n",
              "        `last modified: ${\n",
              "            file.lastModifiedDate ? file.lastModifiedDate.toLocaleDateString() :\n",
              "                                    'n/a'} - `));\n",
              "    const percent = span('0% done');\n",
              "    li.appendChild(percent);\n",
              "\n",
              "    outputElement.appendChild(li);\n",
              "\n",
              "    const fileDataPromise = new Promise((resolve) => {\n",
              "      const reader = new FileReader();\n",
              "      reader.onload = (e) => {\n",
              "        resolve(e.target.result);\n",
              "      };\n",
              "      reader.readAsArrayBuffer(file);\n",
              "    });\n",
              "    // Wait for the data to be ready.\n",
              "    let fileData = yield {\n",
              "      promise: fileDataPromise,\n",
              "      response: {\n",
              "        action: 'continue',\n",
              "      }\n",
              "    };\n",
              "\n",
              "    // Use a chunked sending to avoid message size limits. See b/62115660.\n",
              "    let position = 0;\n",
              "    do {\n",
              "      const length = Math.min(fileData.byteLength - position, MAX_PAYLOAD_SIZE);\n",
              "      const chunk = new Uint8Array(fileData, position, length);\n",
              "      position += length;\n",
              "\n",
              "      const base64 = btoa(String.fromCharCode.apply(null, chunk));\n",
              "      yield {\n",
              "        response: {\n",
              "          action: 'append',\n",
              "          file: file.name,\n",
              "          data: base64,\n",
              "        },\n",
              "      };\n",
              "\n",
              "      let percentDone = fileData.byteLength === 0 ?\n",
              "          100 :\n",
              "          Math.round((position / fileData.byteLength) * 100);\n",
              "      percent.textContent = `${percentDone}% done`;\n",
              "\n",
              "    } while (position < fileData.byteLength);\n",
              "  }\n",
              "\n",
              "  // All done.\n",
              "  yield {\n",
              "    response: {\n",
              "      action: 'complete',\n",
              "    }\n",
              "  };\n",
              "}\n",
              "\n",
              "scope.google = scope.google || {};\n",
              "scope.google.colab = scope.google.colab || {};\n",
              "scope.google.colab._files = {\n",
              "  _uploadFiles,\n",
              "  _uploadFilesContinue,\n",
              "};\n",
              "})(self);\n",
              "</script> "
            ],
            "text/plain": [
              "<IPython.core.display.HTML object>"
            ]
          },
          "metadata": {},
          "output_type": "display_data"
        },
        {
          "name": "stdout",
          "output_type": "stream",
          "text": [
            "Saving v_ApplyEyeMakeup_g01_c01.avi to v_ApplyEyeMakeup_g01_c01.avi\n"
          ]
        }
      ],
      "source": [
        "import os\n",
        "import cv2\n",
        "from google.colab import files\n",
        "\n",
        "# Change to the working directory\n",
        "%cd /content\n",
        "\n",
        "# Create the necessary directories\n",
        "os.makedirs(\"customVideos\", exist_ok=True)\n",
        "os.makedirs(\"customVideos/Test\", exist_ok=True)\n",
        "os.makedirs(\"customVideos-Processed\", exist_ok=True)\n",
        "\n",
        "# Function to clear previous data (frames, annotations, and uploaded videos)\n",
        "def clear_previous_data(test_folder, output_folder, annotations_file):\n",
        "    # Remove all files in the test folder (uploaded videos)\n",
        "    for filename in os.listdir(test_folder):\n",
        "        file_path = os.path.join(test_folder, filename)\n",
        "        if os.path.isfile(file_path):\n",
        "            os.remove(file_path)\n",
        "\n",
        "    # Remove the annotations file if it exists\n",
        "    if os.path.exists(annotations_file):\n",
        "        os.remove(annotations_file)\n",
        "\n",
        "    # Remove all directories and files inside the output folder\n",
        "    for folder_name in os.listdir(output_folder):\n",
        "        folder_path = os.path.join(output_folder, folder_name)\n",
        "        if os.path.isdir(folder_path):\n",
        "            for root, dirs, files in os.walk(folder_path, topdown=False):\n",
        "                for name in files:\n",
        "                    os.remove(os.path.join(root, name))\n",
        "                for name in dirs:\n",
        "                    os.rmdir(os.path.join(root, name))\n",
        "            os.rmdir(folder_path)  # Remove the category folder\n",
        "\n",
        "# Function to upload files to customVideos/Test folder\n",
        "def upload_videos_to_test_folder():\n",
        "    uploaded = files.upload()  # Upload files using Colab's file upload widget\n",
        "    for filename in uploaded.keys():\n",
        "        # Remove spaces from the filename\n",
        "        new_filename = filename.replace(\" \", \"_\")\n",
        "        os.rename(filename, new_filename)\n",
        "        # Move the uploaded file to the customVideos/Test directory\n",
        "        os.rename(new_filename, os.path.join(\"customVideos/Test\", new_filename))\n",
        "\n",
        "# Function to extract frames from videos and save annotations\n",
        "def extract_frames_from_videos(root_folder, output_folder, annotations_file):\n",
        "    with open(annotations_file, 'w') as f:\n",
        "        # Iterate over each category folder in the root directory\n",
        "        for category in os.listdir(root_folder):\n",
        "            category_path = os.path.join(root_folder, category)\n",
        "\n",
        "            if os.path.isdir(category_path):\n",
        "                # Iterate over each video in the category folder\n",
        "                for video_file in os.listdir(category_path):\n",
        "                    video_path = os.path.join(category_path, video_file)\n",
        "\n",
        "                    # Create the output directory for the video frames\n",
        "                    output_dir = os.path.join(output_folder, category, os.path.splitext(video_file)[0])\n",
        "                    os.makedirs(output_dir, exist_ok=True)\n",
        "\n",
        "                    # Capture the video\n",
        "                    video_capture = cv2.VideoCapture(video_path)\n",
        "                    success, frame = video_capture.read()\n",
        "                    frame_count = 0\n",
        "\n",
        "                    # Extract frames from the video\n",
        "                    while success:\n",
        "                        # Write the frame to the output directory\n",
        "                        frame_filename = os.path.join(output_dir, f\"image_{frame_count:04d}.jpg\")\n",
        "                        cv2.imwrite(frame_filename, frame)\n",
        "\n",
        "                        # Read the next frame\n",
        "                        success, frame = video_capture.read()\n",
        "                        frame_count += 1\n",
        "\n",
        "                    # Release the video capture object\n",
        "                    video_capture.release()\n",
        "\n",
        "                    # Write the video name and frame count to the annotations file\n",
        "                    videoname = os.path.splitext(video_file)[0]\n",
        "                    annotation_line = f\"Test/{videoname} {frame_count} 0\\n\"\n",
        "                    f.write(annotation_line)\n",
        "\n",
        "# Clear previous data\n",
        "clear_previous_data(\"/content/customVideos/Test\", \"/content/customVideos-Processed\", \"/content/annotations.txt\")\n",
        "\n",
        "# Call the function to upload files\n",
        "upload_videos_to_test_folder()\n",
        "\n",
        "# Extract frames and save annotations\n",
        "root_folder = \"/content/customVideos\"  # Root folder containing the videos\n",
        "output_folder = \"/content/customVideos-Processed\"  # Output folder for processed images\n",
        "annotations_file = \"/content/annotations.txt\"  # File to save the annotations\n",
        "extract_frames_from_videos(root_folder, output_folder, annotations_file)\n"
      ]
    },
    {
      "cell_type": "code",
      "execution_count": 5,
      "metadata": {
        "colab": {
          "base_uri": "https://localhost:8080/"
        },
        "id": "R6Mt22OqZrcX",
        "outputId": "7275bba1-e312-4ead-f47c-cd26d73f5ddb"
      },
      "outputs": [
        {
          "name": "stdout",
          "output_type": "stream",
          "text": [
            "/content/BIKE\n"
          ]
        }
      ],
      "source": [
        "%cd /content/BIKE\n",
        "\n"
      ]
    },
    {
      "cell_type": "code",
      "execution_count": 6,
      "metadata": {
        "colab": {
          "base_uri": "https://localhost:8080/"
        },
        "id": "ziWRWeTKO0v8",
        "outputId": "b4d51495-66a2-447d-88b0-1f479ff2f49d"
      },
      "outputs": [
        {
          "name": "stdout",
          "output_type": "stream",
          "text": [
            "Not using distributed mode\n",
            "100%|████████████████████████████████████████| 890M/890M [00:05<00:00, 178MiB/s]\n",
            "dropout used:[0.0, 0.0, 0.0, 0.0, 0.0, 0.0, 0.0, 0.0, 0.0, 0.0, 0.0, 0.0, 0.0, 0.0, 0.0, 0.0, 0.0, 0.0, 0.0, 0.0, 0.0, 0.0, 0.0, 0.0]\n",
            "dropout used:[0.0, 0.0, 0.0, 0.0, 0.0, 0.0, 0.0, 0.0, 0.0, 0.0, 0.0, 0.0]\n",
            "loading clip pretrained model!\n",
            "layer=6\n",
            "video number:1\n",
            "/usr/local/lib/python3.10/dist-packages/torch/_dynamo/eval_frame.py:600: UserWarning: torch.utils.checkpoint: the use_reentrant parameter should be passed explicitly. In version 2.4 we will raise an exception if use_reentrant is not passed. use_reentrant=False is recommended, but if you need to preserve the current default behavior, you can pass use_reentrant=True. Refer to docs for more details on the differences between the two variants.\n",
            "  return fn(*args, **kwargs)\n",
            "/usr/local/lib/python3.10/dist-packages/torch/utils/checkpoint.py:92: UserWarning: None of the inputs have requires_grad=True. Gradients will be None\n",
            "  warnings.warn(\n",
            "Predicted class: ['ApplyEyeMakeup']\n"
          ]
        }
      ],
      "source": [
        "!python /content/BIKE/inference.py --config /content/BIKE/configs/ucf101/ucf_infer.yaml  --weights /content/ucf-vit-l-f16.pt --dist_url None"
      ]
    }
  ],
  "metadata": {
    "colab": {
      "provenance": []
    },
    "kernelspec": {
      "display_name": "Python 3",
      "name": "python3"
    },
    "language_info": {
      "codemirror_mode": {
        "name": "ipython",
        "version": 3
      },
      "file_extension": ".py",
      "mimetype": "text/x-python",
      "name": "python",
      "nbconvert_exporter": "python",
      "pygments_lexer": "ipython3",
      "version": "3.11.5"
    }
  },
  "nbformat": 4,
  "nbformat_minor": 0
}
